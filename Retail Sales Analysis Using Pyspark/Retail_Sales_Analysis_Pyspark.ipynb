{
  "nbformat": 4,
  "nbformat_minor": 0,
  "metadata": {
    "colab": {
      "provenance": []
    },
    "kernelspec": {
      "name": "python3",
      "display_name": "Python 3"
    },
    "language_info": {
      "name": "python"
    }
  },
  "cells": [
    {
      "cell_type": "code",
      "execution_count": 4,
      "metadata": {
        "colab": {
          "base_uri": "https://localhost:8080/"
        },
        "id": "uiZ-nltVg3zE",
        "outputId": "75c174a9-40ab-4e40-a027-972dc5531e3c"
      },
      "outputs": [
        {
          "output_type": "stream",
          "name": "stdout",
          "text": [
            "Requirement already satisfied: pyspark in /usr/local/lib/python3.10/dist-packages (3.5.1)\n",
            "Requirement already satisfied: py4j==0.10.9.7 in /usr/local/lib/python3.10/dist-packages (from pyspark) (0.10.9.7)\n"
          ]
        }
      ],
      "source": [
        "# install PySpark\n",
        "!pip install pyspark"
      ]
    },
    {
      "cell_type": "code",
      "source": [
        "# Import SparkSession from PySpark\n",
        "from pyspark.sql import SparkSession\n",
        "\n",
        "# initialize pyspark session\n",
        "spark = SparkSession.builder.appName('Retail Sales Analysis').getOrCreate()"
      ],
      "metadata": {
        "id": "e6eTE4vEhGoA"
      },
      "execution_count": 5,
      "outputs": []
    },
    {
      "cell_type": "code",
      "source": [
        "# read retail dataset\n",
        "df = spark.read.csv('retail_sales_dataset.csv', header=True, inferSchema=True)\n",
        "\n",
        "# show top 5\n",
        "df.show(5)"
      ],
      "metadata": {
        "colab": {
          "base_uri": "https://localhost:8080/"
        },
        "id": "MYENxdrYieD0",
        "outputId": "d973c161-54f5-4651-9a07-46460f7a1e7d"
      },
      "execution_count": 6,
      "outputs": [
        {
          "output_type": "stream",
          "name": "stdout",
          "text": [
            "+--------------+----------+-----------+------+---+----------------+--------+--------------+------------+\n",
            "|Transaction ID|      Date|Customer ID|Gender|Age|Product Category|Quantity|Price per Unit|Total Amount|\n",
            "+--------------+----------+-----------+------+---+----------------+--------+--------------+------------+\n",
            "|             1|2023-11-24|    CUST001|  Male| 34|          Beauty|       3|            50|         150|\n",
            "|             2|2023-02-27|    CUST002|Female| 26|        Clothing|       2|           500|        1000|\n",
            "|             3|2023-01-13|    CUST003|  Male| 50|     Electronics|       1|            30|          30|\n",
            "|             4|2023-05-21|    CUST004|  Male| 37|        Clothing|       1|           500|         500|\n",
            "|             5|2023-05-06|    CUST005|  Male| 30|          Beauty|       2|            50|         100|\n",
            "+--------------+----------+-----------+------+---+----------------+--------+--------------+------------+\n",
            "only showing top 5 rows\n",
            "\n"
          ]
        }
      ]
    },
    {
      "cell_type": "code",
      "source": [
        "# calculate the total of dataset\n",
        "df.count()"
      ],
      "metadata": {
        "colab": {
          "base_uri": "https://localhost:8080/"
        },
        "id": "LBe1OcUFjKA9",
        "outputId": "6c25ba51-c6e5-443c-9d3b-6821c6a1e5ee"
      },
      "execution_count": 7,
      "outputs": [
        {
          "output_type": "execute_result",
          "data": {
            "text/plain": [
              "1000"
            ]
          },
          "metadata": {},
          "execution_count": 7
        }
      ]
    },
    {
      "cell_type": "code",
      "source": [
        "# displays the data schema\n",
        "df.printSchema()"
      ],
      "metadata": {
        "colab": {
          "base_uri": "https://localhost:8080/"
        },
        "id": "WBjh36gRikYg",
        "outputId": "7c562115-0f57-4068-cade-0f66f8c56e4d"
      },
      "execution_count": 8,
      "outputs": [
        {
          "output_type": "stream",
          "name": "stdout",
          "text": [
            "root\n",
            " |-- Transaction ID: integer (nullable = true)\n",
            " |-- Date: date (nullable = true)\n",
            " |-- Customer ID: string (nullable = true)\n",
            " |-- Gender: string (nullable = true)\n",
            " |-- Age: integer (nullable = true)\n",
            " |-- Product Category: string (nullable = true)\n",
            " |-- Quantity: integer (nullable = true)\n",
            " |-- Price per Unit: integer (nullable = true)\n",
            " |-- Total Amount: integer (nullable = true)\n",
            "\n"
          ]
        }
      ]
    },
    {
      "cell_type": "code",
      "source": [
        "# descriptive statistics\n",
        "df.describe().show()"
      ],
      "metadata": {
        "colab": {
          "base_uri": "https://localhost:8080/"
        },
        "id": "j-Sy0lboiuUL",
        "outputId": "a4ba0d4c-8c0a-40e9-f498-8d3a78a9e320"
      },
      "execution_count": 9,
      "outputs": [
        {
          "output_type": "stream",
          "name": "stdout",
          "text": [
            "+-------+-----------------+-----------+------+------------------+----------------+------------------+------------------+-----------------+\n",
            "|summary|   Transaction ID|Customer ID|Gender|               Age|Product Category|          Quantity|    Price per Unit|     Total Amount|\n",
            "+-------+-----------------+-----------+------+------------------+----------------+------------------+------------------+-----------------+\n",
            "|  count|             1000|       1000|  1000|              1000|            1000|              1000|              1000|             1000|\n",
            "|   mean|            500.5|       NULL|  NULL|            41.392|            NULL|             2.514|            179.89|            456.0|\n",
            "| stddev|288.8194360957494|       NULL|  NULL|13.681429659122518|            NULL|1.1327343409145354|189.68135627129234|559.9976315551235|\n",
            "|    min|                1|    CUST001|Female|                18|          Beauty|                 1|                25|               25|\n",
            "|    max|             1000|    CUST999|  Male|                64|     Electronics|                 4|               500|             2000|\n",
            "+-------+-----------------+-----------+------+------------------+----------------+------------------+------------------+-----------------+\n",
            "\n"
          ]
        }
      ]
    },
    {
      "cell_type": "code",
      "source": [
        "df = df.dropna()  # drop null value\n",
        "df = df.dropDuplicates()  # drop duplicated value"
      ],
      "metadata": {
        "id": "EedhQan0i6d7"
      },
      "execution_count": 10,
      "outputs": []
    },
    {
      "cell_type": "code",
      "source": [
        "# check the total dataset again after data cleaning\n",
        "df.count()"
      ],
      "metadata": {
        "colab": {
          "base_uri": "https://localhost:8080/"
        },
        "id": "QSExhZ_fkJSZ",
        "outputId": "d995ae2f-2cf2-402b-8593-322084f10fad"
      },
      "execution_count": 11,
      "outputs": [
        {
          "output_type": "execute_result",
          "data": {
            "text/plain": [
              "1000"
            ]
          },
          "metadata": {},
          "execution_count": 11
        }
      ]
    },
    {
      "cell_type": "code",
      "source": [
        "# import some library\n",
        "from pyspark.sql.functions import month, year, col\n",
        "\n",
        "# calculates monthly sales\n",
        "monthly_sales = df.groupBy(year('date').alias('year'), month('date').alias('month')).sum('Total Amount').orderBy('year', 'month')\n",
        "\n",
        "# show the result\n",
        "monthly_sales.show()"
      ],
      "metadata": {
        "colab": {
          "base_uri": "https://localhost:8080/"
        },
        "id": "n-GXTva2kKz6",
        "outputId": "0bfb3b62-7e88-4df7-85fd-aad8f961a6ce"
      },
      "execution_count": 12,
      "outputs": [
        {
          "output_type": "stream",
          "name": "stdout",
          "text": [
            "+----+-----+-----------------+\n",
            "|year|month|sum(Total Amount)|\n",
            "+----+-----+-----------------+\n",
            "|2023|    1|            35450|\n",
            "|2023|    2|            44060|\n",
            "|2023|    3|            28990|\n",
            "|2023|    4|            33870|\n",
            "|2023|    5|            53150|\n",
            "|2023|    6|            36715|\n",
            "|2023|    7|            35465|\n",
            "|2023|    8|            36960|\n",
            "|2023|    9|            23620|\n",
            "|2023|   10|            46580|\n",
            "|2023|   11|            34920|\n",
            "|2023|   12|            44690|\n",
            "|2024|    1|             1530|\n",
            "+----+-----+-----------------+\n",
            "\n"
          ]
        }
      ]
    },
    {
      "cell_type": "code",
      "source": [
        "# import some library\n",
        "import pandas as pd\n",
        "import matplotlib.pyplot as plt\n",
        "import seaborn as sns\n",
        "\n",
        "# convert to pandas dataframe\n",
        "monthly_sales_pd = monthly_sales.toPandas()\n",
        "\n",
        "# plotting\n",
        "sns.lineplot(data=monthly_sales_pd, x='month', y='sum(Total Amount)', hue='year', palette='Set1', marker='o')\n",
        "plt.xlabel('Month')\n",
        "plt.ylabel('Total Sales')\n",
        "plt.title('Monthly Sales Over Years')\n",
        "plt.show()"
      ],
      "metadata": {
        "colab": {
          "base_uri": "https://localhost:8080/",
          "height": 472
        },
        "id": "sMVKIVbKkk3B",
        "outputId": "83fdcc27-8bc2-4cf5-a75f-beec6d9f136b"
      },
      "execution_count": 13,
      "outputs": [
        {
          "output_type": "display_data",
          "data": {
            "text/plain": [
              "<Figure size 640x480 with 1 Axes>"
            ],
            "image/png": "[encoded data removed]"
          },
          "metadata": {}
        }
      ]
    },
    {
      "cell_type": "code",
      "source": [
        "# calculates the best-selling products based on the number sold\n",
        "top_products = df.groupBy('Product Category').sum('Quantity').orderBy(col('sum(Quantity)').desc())\n",
        "\n",
        "# show the result\n",
        "top_products.show()"
      ],
      "metadata": {
        "colab": {
          "base_uri": "https://localhost:8080/"
        },
        "id": "keBsSgJVkUA8",
        "outputId": "b3ef3b07-1e43-4a32-a1d8-65955b7cc585"
      },
      "execution_count": 14,
      "outputs": [
        {
          "output_type": "stream",
          "name": "stdout",
          "text": [
            "+----------------+-------------+\n",
            "|Product Category|sum(Quantity)|\n",
            "+----------------+-------------+\n",
            "|        Clothing|          894|\n",
            "|     Electronics|          849|\n",
            "|          Beauty|          771|\n",
            "+----------------+-------------+\n",
            "\n"
          ]
        }
      ]
    },
    {
      "cell_type": "code",
      "source": [
        "# convert to pandas dataframe\n",
        "top_products_pd = top_products.toPandas()\n",
        "\n",
        "# Plot bar\n",
        "sns.barplot(x='Product Category', y='sum(Quantity)', data=top_products_pd, palette='viridis')\n",
        "plt.xlabel('Product Category')\n",
        "plt.ylabel('Total Quantity Sold')\n",
        "plt.title('Top Selling Products by Quantity Sold')\n",
        "plt.xticks(rotation=45, ha='right')\n",
        "\n",
        "plt.tight_layout()\n",
        "plt.show()"
      ],
      "metadata": {
        "colab": {
          "base_uri": "https://localhost:8080/",
          "height": 574
        },
        "id": "5MCVBOItCG2Y",
        "outputId": "c2ed89f8-b94e-4763-ac34-11ea3527d386"
      },
      "execution_count": 15,
      "outputs": [
        {
          "output_type": "stream",
          "name": "stderr",
          "text": [
            "<ipython-input-15-b74448828d64>:5: FutureWarning: \n",
            "\n",
            "Passing `palette` without assigning `hue` is deprecated and will be removed in v0.14.0. Assign the `x` variable to `hue` and set `legend=False` for the same effect.\n",
            "\n",
            "  sns.barplot(x='Product Category', y='sum(Quantity)', data=top_products_pd, palette='viridis')\n"
          ]
        },
        {
          "output_type": "display_data",
          "data": {
            "text/plain": [
              "<Figure size 640x480 with 1 Axes>"
            ],
            "image/png": "[encoded data removed]"
          },
          "metadata": {}
        }
      ]
    },
    {
      "cell_type": "code",
      "source": [
        "# import some library\n",
        "from pyspark.sql.functions import sum, avg, count\n",
        "\n",
        "# calculate spending by gender\n",
        "gender_spending = df.groupBy('Gender').agg(\n",
        "    sum('Total Amount').alias('Total Spending'),\n",
        "    avg('Total Amount').alias('Average Spending'),\n",
        "    count('Gender').alias('Number of Transactions')\n",
        ")\n",
        "\n",
        "# show the result\n",
        "gender_spending.show()"
      ],
      "metadata": {
        "colab": {
          "base_uri": "https://localhost:8080/"
        },
        "id": "dO5rsCjcA7lf",
        "outputId": "d53db2d7-7b99-4a88-9ea3-24a995628388"
      },
      "execution_count": 16,
      "outputs": [
        {
          "output_type": "stream",
          "name": "stdout",
          "text": [
            "+------+--------------+------------------+----------------------+\n",
            "|Gender|Total Spending|  Average Spending|Number of Transactions|\n",
            "+------+--------------+------------------+----------------------+\n",
            "|Female|        232840|456.54901960784315|                   510|\n",
            "|  Male|        223160|455.42857142857144|                   490|\n",
            "+------+--------------+------------------+----------------------+\n",
            "\n"
          ]
        }
      ]
    },
    {
      "cell_type": "code",
      "source": [
        "# calculate spending (sum) by gender\n",
        "gender_spending_sum = df.groupBy('Gender').agg(sum('Total Amount').alias('Total Spending'))\n",
        "\n",
        "# convert to pandas dataframe\n",
        "gender_spending_sum_pd = gender_spending_sum.toPandas()\n",
        "\n",
        "# pie plot\n",
        "plt.pie(data=gender_spending_sum_pd, x='Total Spending', labels=gender_spending_sum_pd['Gender'], autopct='%1.1f%%', colors=['skyblue', 'pink'])\n",
        "plt.title('Spending by Gender')\n",
        "plt.show()"
      ],
      "metadata": {
        "colab": {
          "base_uri": "https://localhost:8080/",
          "height": 428
        },
        "id": "Ws18HsZeC6km",
        "outputId": "2809080a-b702-4bba-829e-b62fa4de0f0d"
      },
      "execution_count": 17,
      "outputs": [
        {
          "output_type": "display_data",
          "data": {
            "text/plain": [
              "<Figure size 640x480 with 1 Axes>"
            ],
            "image/png": "[encoded data removed]"
          },
          "metadata": {}
        }
      ]
    },
    {
      "cell_type": "code",
      "source": [
        "df.show(1)"
      ],
      "metadata": {
        "colab": {
          "base_uri": "https://localhost:8080/"
        },
        "id": "s5_FuY90EyKH",
        "outputId": "97351f69-ec63-47f6-e390-a61a4d3aecc8"
      },
      "execution_count": 18,
      "outputs": [
        {
          "output_type": "stream",
          "name": "stdout",
          "text": [
            "+--------------+----------+-----------+------+---+----------------+--------+--------------+------------+\n",
            "|Transaction ID|      Date|Customer ID|Gender|Age|Product Category|Quantity|Price per Unit|Total Amount|\n",
            "+--------------+----------+-----------+------+---+----------------+--------+--------------+------------+\n",
            "|            33|2023-03-23|    CUST033|Female| 50|     Electronics|       2|            50|         100|\n",
            "+--------------+----------+-----------+------+---+----------------+--------+--------------+------------+\n",
            "only showing top 1 row\n",
            "\n"
          ]
        }
      ]
    },
    {
      "cell_type": "code",
      "source": [
        "# import library\n",
        "from pyspark.ml.feature import StringIndexer\n",
        "\n",
        "# create a StringIndexer for each categorical column\n",
        "gender_indexer = StringIndexer(inputCol='Gender', outputCol='GenderIndex')\n",
        "product_indexer = StringIndexer(inputCol='Product Category', outputCol='ProductCategoryIndex')\n",
        "\n",
        "# apply the indexer to the DataFrame\n",
        "df_indexed = gender_indexer.fit(df).transform(df)\n",
        "df_indexed = product_indexer.fit(df_indexed).transform(df_indexed)"
      ],
      "metadata": {
        "id": "tftM1dliFJnp"
      },
      "execution_count": 19,
      "outputs": []
    },
    {
      "cell_type": "code",
      "source": [
        "# import some library\n",
        "from pyspark.ml.feature import VectorAssembler\n",
        "from pyspark.ml.regression import LinearRegression\n",
        "from pyspark.ml.evaluation import RegressionEvaluator\n",
        "\n",
        "# combine the required features into one feature vector\n",
        "assembler = VectorAssembler(inputCols=['GenderIndex', 'ProductCategoryIndex', 'Quantity', 'Price per Unit'],\n",
        "                            outputCol='features')\n",
        "\n",
        "# data transformation to use assembler\n",
        "df_featured = assembler.transform(df_indexed)\n",
        "\n",
        "# split data to train and test\n",
        "train_data, test_data = df_featured.randomSplit([0.8, 0.2])"
      ],
      "metadata": {
        "id": "A0wTKB2WEkfj"
      },
      "execution_count": 20,
      "outputs": []
    },
    {
      "cell_type": "code",
      "source": [
        "# initialize the linear regression model\n",
        "lr = LinearRegression(featuresCol='features', labelCol='Total Amount')\n",
        "\n",
        "# train the model using training data\n",
        "lr_model = lr.fit(train_data)\n",
        "\n",
        "# make predictions using test data\n",
        "predictions = lr_model.transform(test_data)\n",
        "\n",
        "# displays several prediction results\n",
        "predictions.select('Total Amount', 'prediction', 'features').show(5)"
      ],
      "metadata": {
        "colab": {
          "base_uri": "https://localhost:8080/"
        },
        "id": "RUyAO4oYHNTO",
        "outputId": "16d64719-c6bd-4ad5-d836-3ca92bbec397"
      },
      "execution_count": 21,
      "outputs": [
        {
          "output_type": "stream",
          "name": "stdout",
          "text": [
            "+------------+------------------+-------------------+\n",
            "|Total Amount|        prediction|           features|\n",
            "+------------+------------------+-------------------+\n",
            "|         100| 346.4986050102721| [1.0,1.0,4.0,25.0]|\n",
            "|          75|160.48614760535435| [1.0,2.0,3.0,25.0]|\n",
            "|        2000|1508.3551189563168|[0.0,1.0,4.0,500.0]|\n",
            "|          50|-30.05602379144318| [0.0,1.0,2.0,25.0]|\n",
            "|         500| 961.9760012608585|[0.0,2.0,1.0,500.0]|\n",
            "+------------+------------------+-------------------+\n",
            "only showing top 5 rows\n",
            "\n"
          ]
        }
      ]
    },
    {
      "cell_type": "code",
      "source": [
        "# use evaluators to evaluate model performance\n",
        "evaluator = RegressionEvaluator(labelCol='Total Amount', predictionCol='prediction', metricName='r2')\n",
        "r2 = evaluator.evaluate(predictions)\n",
        "\n",
        "print(f'Root Mean Squared Error (r2) on test data: {r2}')"
      ],
      "metadata": {
        "colab": {
          "base_uri": "https://localhost:8080/"
        },
        "id": "p1mVIq9GH18e",
        "outputId": "3915ab30-1587-4e6d-c682-7fac1e34aa02"
      },
      "execution_count": 22,
      "outputs": [
        {
          "output_type": "stream",
          "name": "stdout",
          "text": [
            "Root Mean Squared Error (r2) on test data: 0.8710968126156169\n"
          ]
        }
      ]
    },
    {
      "cell_type": "code",
      "source": [
        "# close SparkSession\n",
        "spark.stop()"
      ],
      "metadata": {
        "id": "O1OE6XO_JQjM"
      },
      "execution_count": 23,
      "outputs": []
    }
  ]
}